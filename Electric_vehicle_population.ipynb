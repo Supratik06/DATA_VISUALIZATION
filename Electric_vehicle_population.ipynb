{
  "nbformat": 4,
  "nbformat_minor": 0,
  "metadata": {
    "colab": {
      "provenance": [],
      "authorship_tag": "ABX9TyNqSMsBfDe9mLnBInCBgUmt"
    },
    "kernelspec": {
      "name": "python3",
      "display_name": "Python 3"
    },
    "language_info": {
      "name": "python"
    }
  },
  "cells": [
    {
      "cell_type": "markdown",
      "source": [
        "Analizing The Electric_Vehicle_Dataset"
      ],
      "metadata": {
        "id": "mLZYlwEdy5F9"
      }
    },
    {
      "cell_type": "code",
      "execution_count": 44,
      "metadata": {
        "id": "vNx9z50sttjY"
      },
      "outputs": [],
      "source": [
        "import numpy as np\n",
        "import pandas as pd\n",
        "import matplotlib.pyplot as plt\n",
        "import seaborn as sns"
      ]
    },
    {
      "cell_type": "code",
      "source": [
        "#Load the data from csv file to Pandas Dataframe\n",
        "df=pd.read_excel('/content/Electric_Vehicle_Population.xlsx')"
      ],
      "metadata": {
        "id": "cZ3uGm88wWFn"
      },
      "execution_count": null,
      "outputs": []
    },
    {
      "cell_type": "code",
      "source": [
        "#printing the first ten rows\n",
        "df.head(10)"
      ],
      "metadata": {
        "id": "1bFd-munw-uV",
        "collapsed": true
      },
      "execution_count": null,
      "outputs": []
    },
    {
      "cell_type": "code",
      "source": [
        "#printing the last ten rows\n",
        "df.tail(10)"
      ],
      "metadata": {
        "id": "3weB79krxgVD",
        "collapsed": true
      },
      "execution_count": null,
      "outputs": []
    },
    {
      "cell_type": "code",
      "source": [
        "#number of rows and columns in the dataset\n",
        "df.shape"
      ],
      "metadata": {
        "id": "2Y4Lq6CKxy3H",
        "collapsed": true
      },
      "execution_count": null,
      "outputs": []
    },
    {
      "cell_type": "code",
      "source": [
        "#getting some information about the data\n",
        "df.info()"
      ],
      "metadata": {
        "id": "LpPHYoMOx-p-",
        "collapsed": true
      },
      "execution_count": null,
      "outputs": []
    },
    {
      "cell_type": "code",
      "source": [
        "#check the number of null or missing values in each column\n",
        "df.isnull().sum()"
      ],
      "metadata": {
        "id": "4e0wzQwsyHwb",
        "collapsed": true
      },
      "execution_count": null,
      "outputs": []
    },
    {
      "cell_type": "code",
      "source": [
        "#getting the description of the dataset\n",
        "df.describe()"
      ],
      "metadata": {
        "id": "MSO6oXchyXa6",
        "collapsed": true
      },
      "execution_count": null,
      "outputs": []
    },
    {
      "cell_type": "markdown",
      "source": [
        "Handeling the missing values"
      ],
      "metadata": {
        "id": "VVjiFEhLyzGq"
      }
    },
    {
      "cell_type": "code",
      "source": [
        "#Drop the \"Legislative District\" column from the Dataframe\n",
        "if 'Legislative District' in df.columns:\n",
        "    df=df.drop(columns='Legislative District',axis=1)"
      ],
      "metadata": {
        "id": "GIiQ8Mh7yrU_"
      },
      "execution_count": null,
      "outputs": []
    },
    {
      "cell_type": "code",
      "source": [
        "#print the first five rows of the dataset\n",
        "df.head(5)"
      ],
      "metadata": {
        "id": "fvQUbE1nz085",
        "collapsed": true
      },
      "execution_count": null,
      "outputs": []
    },
    {
      "cell_type": "code",
      "source": [
        "#drop the \"Base MSRP\" column from the dataframe\n",
        "if 'Base MSRP' in df.columns:\n",
        "    df=df.drop(columns='Base MSRP',axis=1)"
      ],
      "metadata": {
        "id": "psC4SL-G0MmY"
      },
      "execution_count": null,
      "outputs": []
    },
    {
      "cell_type": "code",
      "source": [
        "#print the first three rows of the dataset\n",
        "df.head(3)"
      ],
      "metadata": {
        "id": "sOTjW5Ti1e-h",
        "collapsed": true
      },
      "execution_count": null,
      "outputs": []
    },
    {
      "cell_type": "code",
      "source": [
        "#replacing the missing values in \"Electric Range\" column with the mean value\n",
        "df['Electric Range'].fillna(df['Electric Range'].mean(),inplace=True)"
      ],
      "metadata": {
        "id": "_3c4oBa81rp7",
        "collapsed": true
      },
      "execution_count": null,
      "outputs": []
    },
    {
      "cell_type": "code",
      "source": [
        "#print the first three rows\n",
        "df.head(3)"
      ],
      "metadata": {
        "id": "_6GkZApx2Jq0",
        "collapsed": true
      },
      "execution_count": null,
      "outputs": []
    },
    {
      "cell_type": "code",
      "source": [
        "#find the mode value of \"2020 Census Tract\" column\n",
        "print(df['2020 Census Tract'].mode())"
      ],
      "metadata": {
        "id": "o_LRotzkWB0c"
      },
      "execution_count": null,
      "outputs": []
    },
    {
      "cell_type": "code",
      "source": [
        "print(df['2020 Census Tract'].mode()[0])"
      ],
      "metadata": {
        "id": "-yOnTgZvbf1S"
      },
      "execution_count": null,
      "outputs": []
    },
    {
      "cell_type": "code",
      "source": [
        "#replacing the missing values in '2020 Census Tract' column with mode value\n",
        "df['2020 Census Tract'].fillna(df['2020 Census Tract'].mode()[0],inplace=True)"
      ],
      "metadata": {
        "id": "n4gMbYAycs2D"
      },
      "execution_count": null,
      "outputs": []
    },
    {
      "cell_type": "code",
      "source": [
        "df.isnull().sum()"
      ],
      "metadata": {
        "id": "luuAD9uH9iMn"
      },
      "execution_count": null,
      "outputs": []
    },
    {
      "cell_type": "code",
      "source": [
        "#Drop the \"Vehicle Location\" column from the Dataframe\n",
        "if 'Vehicle Location' in df.columns:\n",
        "    df=df.drop(columns='Vehicle Location',axis=1)"
      ],
      "metadata": {
        "id": "9PzD63eG-Mwr"
      },
      "execution_count": null,
      "outputs": []
    },
    {
      "cell_type": "code",
      "source": [
        "df.head(5)"
      ],
      "metadata": {
        "id": "85p_RBkTRTpC"
      },
      "execution_count": null,
      "outputs": []
    },
    {
      "cell_type": "code",
      "source": [
        "#replacing the missing values in \"County\" column with the mean value\n",
        "common_county = df['County'].mode()[0]\n",
        "df['County'].fillna(common_county,inplace=True)"
      ],
      "metadata": {
        "id": "pQf1IowXR3V7"
      },
      "execution_count": null,
      "outputs": []
    },
    {
      "cell_type": "code",
      "source": [
        "#replacing the missing values in \"City\" column with the mean value\n",
        "common_city = df['City'].mode()[0]\n",
        "df['City'].fillna(common_city,inplace=True)"
      ],
      "metadata": {
        "id": "avV0xeVPSoXC"
      },
      "execution_count": null,
      "outputs": []
    },
    {
      "cell_type": "code",
      "source": [
        "#replacing the missing values in \"Electric Utility\" column with the mean value\n",
        "common_Electric_Utility = df['Electric Utility'].mode()[0]\n",
        "df['Electric Utility'].fillna(common_Electric_Utility,inplace=True)"
      ],
      "metadata": {
        "id": "dziYaKH7S-l1"
      },
      "execution_count": null,
      "outputs": []
    },
    {
      "cell_type": "code",
      "source": [
        "df.isnull().sum()"
      ],
      "metadata": {
        "id": "j5xn8cSgUOAz"
      },
      "execution_count": null,
      "outputs": []
    },
    {
      "cell_type": "code",
      "source": [
        "#replacing the missing values in \"Electric Range\" column with the mean value\n",
        "common_Electric_Range = df['Electric Range'].mode()[0]\n",
        "df['Electric Range'].fillna(common_Electric_Range,inplace=True)"
      ],
      "metadata": {
        "id": "5ykppd2JUgcJ"
      },
      "execution_count": null,
      "outputs": []
    },
    {
      "cell_type": "code",
      "source": [
        "#replacing the missing values in \"Postal Code\" column with the mean value\n",
        "common_Postal_Code = df['Postal Code'].mode()[0]\n",
        "df['Postal Code'].fillna(common_Postal_Code,inplace=True)"
      ],
      "metadata": {
        "id": "go07lVIrU83e"
      },
      "execution_count": null,
      "outputs": []
    },
    {
      "cell_type": "code",
      "source": [
        "#replacing the missing values in \"2020 Census Tract\" column with the mean value\n",
        "common_2020_Census_Tract = df['2020 Census Tract'].mode()[0]\n",
        "df['2020 Census Tract'].fillna(common_2020_Census_Tract,inplace=True)"
      ],
      "metadata": {
        "id": "rdqlGndWVIkg"
      },
      "execution_count": null,
      "outputs": []
    },
    {
      "cell_type": "code",
      "source": [
        "df.isnull().sum()"
      ],
      "metadata": {
        "id": "7GEQm1bqVXKJ"
      },
      "execution_count": null,
      "outputs": []
    },
    {
      "cell_type": "code",
      "source": [
        "#find the mode value of \"make\" column\n",
        "print(df['Make'].mode())"
      ],
      "metadata": {
        "id": "viSN6FftVnzi"
      },
      "execution_count": null,
      "outputs": []
    },
    {
      "cell_type": "code",
      "source": [
        "print(df['Make'].mode()[0])"
      ],
      "metadata": {
        "id": "dG-83HCSXRke"
      },
      "execution_count": null,
      "outputs": []
    },
    {
      "cell_type": "code",
      "source": [
        "#getting more about the data\n",
        "df.describe()"
      ],
      "metadata": {
        "id": "q1L-BNH8XcjJ"
      },
      "execution_count": null,
      "outputs": []
    },
    {
      "cell_type": "code",
      "source": [
        "#finding the number of the model made by company\n",
        "df['Model'].value_counts()"
      ],
      "metadata": {
        "id": "xTGV_gC8XoT0"
      },
      "execution_count": null,
      "outputs": []
    },
    {
      "cell_type": "code",
      "source": [
        "df['Make'].value_counts()"
      ],
      "metadata": {
        "id": "pCrKOBnXaDZ4"
      },
      "execution_count": null,
      "outputs": []
    },
    {
      "cell_type": "markdown",
      "source": [
        "DATA VISUALIZATION"
      ],
      "metadata": {
        "id": "U1qPL3XWbLuI"
      }
    },
    {
      "cell_type": "code",
      "source": [
        "#creating a count plot for \"make \"column\n",
        "sns.countplot(x='Make',data=df)"
      ],
      "metadata": {
        "id": "rjevyjWYbLL6"
      },
      "execution_count": null,
      "outputs": []
    },
    {
      "cell_type": "code",
      "source": [
        "#Pie Chart: EV Type Distribution\n",
        "ev_type_counts = df['Electric Vehicle Type'].value_counts()\n",
        "\n",
        "plt.figure(figsize=(7, 7))\n",
        "plt.pie(ev_type_counts.values, labels=ev_type_counts.index, autopct='%1.1f%%', startangle=140)\n",
        "plt.title('EV Type Distribution')\n",
        "plt.axis('equal')\n",
        "plt.tight_layout()\n",
        "plt.show()"
      ],
      "metadata": {
        "id": "rqmrfLQHfoDB"
      },
      "execution_count": null,
      "outputs": []
    },
    {
      "cell_type": "code",
      "source": [
        "#Histogram: Distribution of Model Years\n",
        "plt.figure(figsize=(10, 6))\n",
        "plt.hist(df['Model Year'], bins=range(int(df['Model Year'].min()), int(df['Model Year'].max()) + 1), color='teal', edgecolor='black')\n",
        "plt.title('Distribution of Model Years')\n",
        "plt.xlabel('Model Year')\n",
        "plt.ylabel('Number of Vehicles')\n",
        "plt.show()"
      ],
      "metadata": {
        "id": "lhP2de4sf6yg"
      },
      "execution_count": null,
      "outputs": []
    },
    {
      "cell_type": "code",
      "source": [
        "#Line Chart for Growth of Tesla Vehicles by Year\n",
        "tesla_data = df[df['Make'] == 'TESLA']\n",
        "tesla_by_year = tesla_data['Model Year'].value_counts().sort_index()\n",
        "\n",
        "plt.figure(figsize=(12, 6))\n",
        "plt.plot(tesla_by_year.index, tesla_by_year.values, marker='o', linestyle='-', color='crimson')\n",
        "plt.title('Growth of Tesla EVs by Model Year')\n",
        "plt.xlabel('Model Year')\n",
        "plt.ylabel('Number of Teslas')\n",
        "plt.show()\n",
        "\n"
      ],
      "metadata": {
        "id": "x9-0AlFZgCoP"
      },
      "execution_count": null,
      "outputs": []
    },
    {
      "cell_type": "code",
      "source": [
        "#Scatter Plot: Model Year vs. make\n",
        "if 'Make' in df.columns:\n",
        "    plt.figure(figsize=(10, 6))\n",
        "    plt.scatter(df['Model Year'], df['Make'], alpha=0.3, color='gray')\n",
        "    plt.title('Scatter Plot: Model Year vs. Make')\n",
        "    plt.xlabel('Model Year')\n",
        "    plt.ylabel('Make')\n",
        "    plt.show()"
      ],
      "metadata": {
        "id": "GLuR7LgTgV96"
      },
      "execution_count": null,
      "outputs": []
    },
    {
      "cell_type": "code",
      "source": [
        "# Top 10 Makes (Manufacturers)\n",
        "plt.figure(figsize=(10, 6))\n",
        "top_makes = df['Make'].value_counts().head(10)\n",
        "sns.barplot(x=top_makes.values, y=top_makes.index, palette='viridis')\n",
        "plt.title('Top 10 Electric Vehicle Makes')\n",
        "plt.xlabel('Number of Vehicles')\n",
        "plt.ylabel('Make')\n",
        "plt.show()"
      ],
      "metadata": {
        "id": "VpSra7Y6dJ8g"
      },
      "execution_count": null,
      "outputs": []
    },
    {
      "cell_type": "code",
      "source": [
        "# Vehicle count by Model Year\n",
        "plt.figure(figsize=(12, 6))\n",
        "model_year_counts = df['Model Year'].value_counts().sort_index()\n",
        "sns.lineplot(x=model_year_counts.index, y=model_year_counts.values, marker='o')\n",
        "plt.title('Electric Vehicles by Model Year')\n",
        "plt.xlabel('Model Year')\n",
        "plt.ylabel('Number of Vehicles')\n",
        "plt.show()"
      ],
      "metadata": {
        "id": "jpeikL9udNrJ"
      },
      "execution_count": null,
      "outputs": []
    },
    {
      "cell_type": "code",
      "source": [
        "# Distribution by Electric Vehicle Type\n",
        "plt.figure(figsize=(8, 6))\n",
        "ev_type_counts = df['Electric Vehicle Type'].value_counts()\n",
        "sns.barplot(x=ev_type_counts.values, y=ev_type_counts.index, palette='coolwarm')\n",
        "plt.title('Distribution by EV Type')\n",
        "plt.xlabel('Number of Vehicles')\n",
        "plt.ylabel('EV Type')\n",
        "plt.show()"
      ],
      "metadata": {
        "id": "7fjHtQSad0y9"
      },
      "execution_count": null,
      "outputs": []
    },
    {
      "cell_type": "code",
      "source": [
        "# Vehicles by County (Top 10)\n",
        "plt.figure(figsize=(10, 6))\n",
        "county_counts = df['County'].value_counts().head(10)\n",
        "sns.barplot(x=county_counts.values, y=county_counts.index, palette='mako')\n",
        "plt.title('Top 10 Counties by Number of EVs')\n",
        "plt.xlabel('Number of Vehicles')\n",
        "plt.ylabel('County')\n",
        "plt.show()"
      ],
      "metadata": {
        "id": "voNtRAKUeAZ_"
      },
      "execution_count": null,
      "outputs": []
    },
    {
      "cell_type": "code",
      "source": [
        "# Box plot of model years grouped by EV type\n",
        "df.boxplot(column='Model Year', by='Electric Vehicle Type')\n",
        "plt.title('Model Year Distribution by EV Type')\n",
        "plt.xlabel('Electric Vehicle Type')\n",
        "plt.ylabel('Model Year')\n",
        "plt.xticks(rotation=15)\n",
        "plt.show()"
      ],
      "metadata": {
        "id": "1z_wHL8gLJvh"
      },
      "execution_count": null,
      "outputs": []
    }
  ]
}